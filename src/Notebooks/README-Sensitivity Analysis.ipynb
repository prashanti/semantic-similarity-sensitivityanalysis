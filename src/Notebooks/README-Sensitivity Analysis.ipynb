{
 "cells": [
  {
   "cell_type": "markdown",
   "metadata": {},
   "source": [
    "# Sensitivity analysis of semantic similarity measures\n",
    "Semantic similarity metrics are often used to compare distantly related biological entities based on their ontological annotations. While semantic similarity measures are widely used, it is unclear as to how sensitive these metrics are to different levels of partial relatedness. In addition to the choice of similarity metrics, there are additional parameters that affect the performance of these measures. Here, we compare a subset of similarity metrics combined with different choices for additional parameters. \n",
    "A manuscript draft describing this work is [here](https://www.sharelatex.com/project/5660ff9e56d9eb225beb1ca6). \n",
    "\n",
    "## Similarity metrics\n",
    "* [Resnik](http://journals.plos.org/ploscompbiol/article?id=10.1371/journal.pcbi.1000443)\n",
    "* [Jaccard](http://journals.plos.org/ploscompbiol/article?id=10.1371/journal.pcbi.1000443)\n",
    "* [Groupwise Jaccard](http://journals.plos.org/ploscompbiol/article?id=10.1371/journal.pcbi.1000443)\n",
    "* [Hybrid Relative Specificity](http://www.ncbi.nlm.nih.gov/pubmed/23741529)\n",
    "* [Lin](http://journals.plos.org/ploscompbiol/article?id=10.1371/journal.pcbi.1000443)\n",
    "* [Jiang & Conrath](http://journals.plos.org/ploscompbiol/article?id=10.1371/journal.pcbi.1000443)\n",
    "* [simGIC](http://journals.plos.org/ploscompbiol/article?id=10.1371/journal.pcbi.1000443)\n",
    "\n",
    "\n",
    "## Profile aggregation approaches\n",
    "* [All Pairs (AP)](http://journals.plos.org/ploscompbiol/article?id=10.1371/journal.pcbi.1000443)\n",
    "* [Best Pairs (BP)](http://journals.plos.org/ploscompbiol/article?id=10.1371/journal.pcbi.1000443)\n",
    "\n",
    "## Directionality of similarity\n",
    "* Symmetric\n",
    "* Asymmetric\n",
    "\n",
    "## Different approaches to measure Information Content (IC)\n",
    "* [Annotation Information Content](http://bmcbioinformatics.biomedcentral.com/articles/10.1186/1471-2105-9-327)\n",
    "* [Profile Information Content](http://journals.plos.org/plosbiology/article?id=10.1371/journal.pbio.1000247#s4)\n",
    "\n",
    "## Decay approaches\n",
    "* Random Replacement\n",
    "\n",
    "Annotations in the query profile are replaced, one per iteration, by a randomly selected annotation from the pool thereby decaying the query profile and increasing the imperfection of the match between itself and the database profiles. The query profile is compared to all profiles in the faux database after each annotation replacement and the similarity of the best match is noted. The annotation replacement process ends when all annotations in the profile have been replaced with randomly selected annotations.\n",
    "* Ancestral Replacement\n",
    "\n",
    "## Comparison of decay from different profile sizes\n",
    "A comparison of similarity decay from different metrics when query profiles are decayed incrementally (using one of the above decay approaches). \n",
    "\n",
    "[View analysis](Level1-Queryprofilesize-comparison.ipynb)\n",
    "\n",
    "\n",
    "## Comparison of Annotation IC vs. Profile IC\n",
    "\n",
    "[View analysis](Level2-AICvsPIC.ipynb)\n",
    "\n",
    "\n",
    "## Comparison of metrics (Resnik, Groupwise Resnik, Jaccard, and Groupwise Jaccard)\n",
    "\n",
    "[View analysis](Level3-MetricComparison.ipynb)\n",
    "\n",
    "\n",
    "## Comparison of annotation granularity\n",
    "\n",
    "[View analysis](Level4-EvsEAvsEQ.ipynb)\n",
    "\n"
   ]
  },
  {
   "cell_type": "code",
   "execution_count": null,
   "metadata": {
    "collapsed": true
   },
   "outputs": [],
   "source": []
  }
 ],
 "metadata": {
  "kernelspec": {
   "display_name": "Python 3",
   "language": "python",
   "name": "python3"
  },
  "language_info": {
   "codemirror_mode": {
    "name": "ipython",
    "version": 3
   },
   "file_extension": ".py",
   "mimetype": "text/x-python",
   "name": "python",
   "nbconvert_exporter": "python",
   "pygments_lexer": "ipython3",
   "version": "3.4.1"
  }
 },
 "nbformat": 4,
 "nbformat_minor": 0
}
